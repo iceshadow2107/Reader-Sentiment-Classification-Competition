{
  "cells": [
    {
      "cell_type": "code",
      "execution_count": 1,
      "id": "22dd2749",
      "metadata": {
        "id": "22dd2749"
      },
      "outputs": [],
      "source": [
        "import pandas as pd\n",
        "import numpy as np\n",
        "import matplotlib.pyplot as plt\n",
        "import seaborn as sns\n",
        "%matplotlib inline\n",
        "from sklearn.preprocessing import LabelEncoder\n",
        "import graphviz\n",
        "from sklearn.metrics import confusion_matrix, precision_recall_fscore_support\n",
        "from sklearn import metrics\n",
        "from sklearn import tree\n",
        "from sklearn.model_selection import KFold\n",
        "from sklearn.model_selection import train_test_split\n",
        "from sklearn.model_selection import cross_val_score\n",
        "from sklearn.naive_bayes import ComplementNB\n",
        "from sklearn.naive_bayes import MultinomialNB\n",
        "from sklearn.tree import DecisionTreeClassifier\n",
        "#from sklearn.tree import export_graphviz"
      ]
    },
    {
      "cell_type": "code",
      "execution_count": 2,
      "id": "87f1015a",
      "metadata": {
        "id": "87f1015a"
      },
      "outputs": [],
      "source": [
        "from sklearn.feature_extraction.text import TfidfTransformer\n",
        "from sklearn.feature_extraction.text import TfidfVectorizer, CountVectorizer"
      ]
    },
    {
      "cell_type": "code",
      "source": [
        "from google.colab import drive\n",
        "drive.mount('/content/drive')"
      ],
      "metadata": {
        "colab": {
          "base_uri": "https://localhost:8080/"
        },
        "id": "d8-K_PSeXX2E",
        "outputId": "fcafef57-7aee-4596-b29b-a075a63359e5"
      },
      "id": "d8-K_PSeXX2E",
      "execution_count": 3,
      "outputs": [
        {
          "output_type": "stream",
          "name": "stdout",
          "text": [
            "Mounted at /content/drive\n"
          ]
        }
      ]
    },
    {
      "cell_type": "markdown",
      "id": "43b4a028",
      "metadata": {
        "id": "43b4a028"
      },
      "source": [
        "## 原始訓練資料"
      ]
    },
    {
      "cell_type": "code",
      "execution_count": 4,
      "id": "64338076",
      "metadata": {
        "scrolled": true,
        "colab": {
          "base_uri": "https://localhost:8080/",
          "height": 206
        },
        "id": "64338076",
        "outputId": "ea958d89-df9f-422e-e7df-1ff4bf891362"
      },
      "outputs": [
        {
          "output_type": "execute_result",
          "data": {
            "text/plain": [
              "         label                                           cut_text  \\\n",
              "0  informative  本報 特約 ---- 宏觀 縱覽 / 溫家寶 ： 當前 重要 的 是 促進 投資 合理 增長...   \n",
              "1  informative  腸 病毒 降溫   登革熱 持續 悶燒 【 記者 王文智 台北 報導 】 今年 腸 病毒 疫...   \n",
              "2  informative  集中 市場 外資券商 主要 進出 個股   台北 . 07月 05  交易日        ...   \n",
              "3  informative  兩岸 放送 頭 － 適度 腐敗 論   引發 媒體人 論戰 中國時報 【 李文輝 】   《...   \n",
              "4        angry  國5 北 上 高 承載   未 滿 3 人 改道 （ 中央社 記者 汪淑芬 台北 8 日 電...   \n",
              "\n",
              "                                        cleaned_text  \n",
              "0  特約 ---- 宏觀 溫家寶 重要 促進 投資 合理 增長 國務院 總理 溫家寶 先後 主持...  \n",
              "1  腸 病毒 降溫 登革熱 持續 悶燒 記者 王文智 台北 報導 腸 病毒 疫情 週 降溫 出現...  \n",
              "2  集中 市場 外資券商 主要 進出 台北 交易日 買進 張數 賣出 張數 賣賣總 麥格理 義隆...  \n",
              "3  放送 頭 － 適度 腐敗 引發 媒體人 李文輝 環球時報 社評 主張 適度 腐敗論 成 老鼠...  \n",
              "4  國5 北 高 承載 未 滿 改道 記者 汪淑芬 台北 電 交通部 高速 公路局 晚上 首 利...  "
            ],
            "text/html": [
              "\n",
              "  <div id=\"df-d4da1cfe-292f-46df-ac10-749096dc8106\">\n",
              "    <div class=\"colab-df-container\">\n",
              "      <div>\n",
              "<style scoped>\n",
              "    .dataframe tbody tr th:only-of-type {\n",
              "        vertical-align: middle;\n",
              "    }\n",
              "\n",
              "    .dataframe tbody tr th {\n",
              "        vertical-align: top;\n",
              "    }\n",
              "\n",
              "    .dataframe thead th {\n",
              "        text-align: right;\n",
              "    }\n",
              "</style>\n",
              "<table border=\"1\" class=\"dataframe\">\n",
              "  <thead>\n",
              "    <tr style=\"text-align: right;\">\n",
              "      <th></th>\n",
              "      <th>label</th>\n",
              "      <th>cut_text</th>\n",
              "      <th>cleaned_text</th>\n",
              "    </tr>\n",
              "  </thead>\n",
              "  <tbody>\n",
              "    <tr>\n",
              "      <th>0</th>\n",
              "      <td>informative</td>\n",
              "      <td>本報 特約 ---- 宏觀 縱覽 / 溫家寶 ： 當前 重要 的 是 促進 投資 合理 增長...</td>\n",
              "      <td>特約 ---- 宏觀 溫家寶 重要 促進 投資 合理 增長 國務院 總理 溫家寶 先後 主持...</td>\n",
              "    </tr>\n",
              "    <tr>\n",
              "      <th>1</th>\n",
              "      <td>informative</td>\n",
              "      <td>腸 病毒 降溫   登革熱 持續 悶燒 【 記者 王文智 台北 報導 】 今年 腸 病毒 疫...</td>\n",
              "      <td>腸 病毒 降溫 登革熱 持續 悶燒 記者 王文智 台北 報導 腸 病毒 疫情 週 降溫 出現...</td>\n",
              "    </tr>\n",
              "    <tr>\n",
              "      <th>2</th>\n",
              "      <td>informative</td>\n",
              "      <td>集中 市場 外資券商 主要 進出 個股   台北 . 07月 05  交易日        ...</td>\n",
              "      <td>集中 市場 外資券商 主要 進出 台北 交易日 買進 張數 賣出 張數 賣賣總 麥格理 義隆...</td>\n",
              "    </tr>\n",
              "    <tr>\n",
              "      <th>3</th>\n",
              "      <td>informative</td>\n",
              "      <td>兩岸 放送 頭 － 適度 腐敗 論   引發 媒體人 論戰 中國時報 【 李文輝 】   《...</td>\n",
              "      <td>放送 頭 － 適度 腐敗 引發 媒體人 李文輝 環球時報 社評 主張 適度 腐敗論 成 老鼠...</td>\n",
              "    </tr>\n",
              "    <tr>\n",
              "      <th>4</th>\n",
              "      <td>angry</td>\n",
              "      <td>國5 北 上 高 承載   未 滿 3 人 改道 （ 中央社 記者 汪淑芬 台北 8 日 電...</td>\n",
              "      <td>國5 北 高 承載 未 滿 改道 記者 汪淑芬 台北 電 交通部 高速 公路局 晚上 首 利...</td>\n",
              "    </tr>\n",
              "  </tbody>\n",
              "</table>\n",
              "</div>\n",
              "      <button class=\"colab-df-convert\" onclick=\"convertToInteractive('df-d4da1cfe-292f-46df-ac10-749096dc8106')\"\n",
              "              title=\"Convert this dataframe to an interactive table.\"\n",
              "              style=\"display:none;\">\n",
              "        \n",
              "  <svg xmlns=\"http://www.w3.org/2000/svg\" height=\"24px\"viewBox=\"0 0 24 24\"\n",
              "       width=\"24px\">\n",
              "    <path d=\"M0 0h24v24H0V0z\" fill=\"none\"/>\n",
              "    <path d=\"M18.56 5.44l.94 2.06.94-2.06 2.06-.94-2.06-.94-.94-2.06-.94 2.06-2.06.94zm-11 1L8.5 8.5l.94-2.06 2.06-.94-2.06-.94L8.5 2.5l-.94 2.06-2.06.94zm10 10l.94 2.06.94-2.06 2.06-.94-2.06-.94-.94-2.06-.94 2.06-2.06.94z\"/><path d=\"M17.41 7.96l-1.37-1.37c-.4-.4-.92-.59-1.43-.59-.52 0-1.04.2-1.43.59L10.3 9.45l-7.72 7.72c-.78.78-.78 2.05 0 2.83L4 21.41c.39.39.9.59 1.41.59.51 0 1.02-.2 1.41-.59l7.78-7.78 2.81-2.81c.8-.78.8-2.07 0-2.86zM5.41 20L4 18.59l7.72-7.72 1.47 1.35L5.41 20z\"/>\n",
              "  </svg>\n",
              "      </button>\n",
              "      \n",
              "  <style>\n",
              "    .colab-df-container {\n",
              "      display:flex;\n",
              "      flex-wrap:wrap;\n",
              "      gap: 12px;\n",
              "    }\n",
              "\n",
              "    .colab-df-convert {\n",
              "      background-color: #E8F0FE;\n",
              "      border: none;\n",
              "      border-radius: 50%;\n",
              "      cursor: pointer;\n",
              "      display: none;\n",
              "      fill: #1967D2;\n",
              "      height: 32px;\n",
              "      padding: 0 0 0 0;\n",
              "      width: 32px;\n",
              "    }\n",
              "\n",
              "    .colab-df-convert:hover {\n",
              "      background-color: #E2EBFA;\n",
              "      box-shadow: 0px 1px 2px rgba(60, 64, 67, 0.3), 0px 1px 3px 1px rgba(60, 64, 67, 0.15);\n",
              "      fill: #174EA6;\n",
              "    }\n",
              "\n",
              "    [theme=dark] .colab-df-convert {\n",
              "      background-color: #3B4455;\n",
              "      fill: #D2E3FC;\n",
              "    }\n",
              "\n",
              "    [theme=dark] .colab-df-convert:hover {\n",
              "      background-color: #434B5C;\n",
              "      box-shadow: 0px 1px 3px 1px rgba(0, 0, 0, 0.15);\n",
              "      filter: drop-shadow(0px 1px 2px rgba(0, 0, 0, 0.3));\n",
              "      fill: #FFFFFF;\n",
              "    }\n",
              "  </style>\n",
              "\n",
              "      <script>\n",
              "        const buttonEl =\n",
              "          document.querySelector('#df-d4da1cfe-292f-46df-ac10-749096dc8106 button.colab-df-convert');\n",
              "        buttonEl.style.display =\n",
              "          google.colab.kernel.accessAllowed ? 'block' : 'none';\n",
              "\n",
              "        async function convertToInteractive(key) {\n",
              "          const element = document.querySelector('#df-d4da1cfe-292f-46df-ac10-749096dc8106');\n",
              "          const dataTable =\n",
              "            await google.colab.kernel.invokeFunction('convertToInteractive',\n",
              "                                                     [key], {});\n",
              "          if (!dataTable) return;\n",
              "\n",
              "          const docLinkHtml = 'Like what you see? Visit the ' +\n",
              "            '<a target=\"_blank\" href=https://colab.research.google.com/notebooks/data_table.ipynb>data table notebook</a>'\n",
              "            + ' to learn more about interactive tables.';\n",
              "          element.innerHTML = '';\n",
              "          dataTable['output_type'] = 'display_data';\n",
              "          await google.colab.output.renderOutput(dataTable, element);\n",
              "          const docLink = document.createElement('div');\n",
              "          docLink.innerHTML = docLinkHtml;\n",
              "          element.appendChild(docLink);\n",
              "        }\n",
              "      </script>\n",
              "    </div>\n",
              "  </div>\n",
              "  "
            ]
          },
          "metadata": {},
          "execution_count": 4
        }
      ],
      "source": [
        "train_o = pd.read_excel('/content/drive/MyDrive/自然語言競賽/train_jieba+monpa.xlsx')\n",
        "train_o.head()"
      ]
    },
    {
      "cell_type": "code",
      "execution_count": 5,
      "id": "a15bca70",
      "metadata": {
        "colab": {
          "base_uri": "https://localhost:8080/"
        },
        "id": "a15bca70",
        "outputId": "dce02dd9-6084-4808-836b-09069ee9b34d"
      },
      "outputs": [
        {
          "output_type": "execute_result",
          "data": {
            "text/plain": [
              "label           0\n",
              "cut_text        0\n",
              "cleaned_text    2\n",
              "dtype: int64"
            ]
          },
          "metadata": {},
          "execution_count": 5
        }
      ],
      "source": [
        "train_o.isna().sum()"
      ]
    },
    {
      "cell_type": "code",
      "execution_count": 6,
      "id": "fc283511",
      "metadata": {
        "colab": {
          "base_uri": "https://localhost:8080/"
        },
        "id": "fc283511",
        "outputId": "d14eb721-becd-41f2-f648-6cfc27b87b9a"
      },
      "outputs": [
        {
          "output_type": "execute_result",
          "data": {
            "text/plain": [
              "label           0\n",
              "cut_text        0\n",
              "cleaned_text    0\n",
              "dtype: int64"
            ]
          },
          "metadata": {},
          "execution_count": 6
        }
      ],
      "source": [
        "train_o[\"cleaned_text\"] = train_o[\"cleaned_text\"].fillna(\"NoName\")\n",
        "train_o.isna().sum()"
      ]
    },
    {
      "cell_type": "code",
      "execution_count": null,
      "id": "fbbd5d6a",
      "metadata": {
        "id": "fbbd5d6a"
      },
      "outputs": [],
      "source": [
        ""
      ]
    },
    {
      "cell_type": "code",
      "execution_count": null,
      "id": "688da048",
      "metadata": {
        "scrolled": true,
        "id": "688da048"
      },
      "outputs": [],
      "source": [
        "train = pd.read_excel('./train_cleaned_jieba+monpa.xlsx')\n",
        "train.head()"
      ]
    },
    {
      "cell_type": "code",
      "execution_count": null,
      "id": "1447010a",
      "metadata": {
        "id": "1447010a"
      },
      "outputs": [],
      "source": [
        "train.isna().sum()"
      ]
    },
    {
      "cell_type": "code",
      "execution_count": null,
      "id": "960e29a0",
      "metadata": {
        "id": "960e29a0"
      },
      "outputs": [],
      "source": [
        "train[\"cleaned_text\"] = train[\"cleaned_text\"].fillna(\"NoName\")\n",
        "train.isna().sum()"
      ]
    },
    {
      "cell_type": "code",
      "execution_count": 7,
      "id": "0e7b3642",
      "metadata": {
        "scrolled": true,
        "colab": {
          "base_uri": "https://localhost:8080/",
          "height": 81
        },
        "id": "0e7b3642",
        "outputId": "fcbbd2f6-0917-4f9c-c3e2-0524496455e1"
      },
      "outputs": [
        {
          "output_type": "execute_result",
          "data": {
            "text/plain": [
              "   label                                           cut_text  \\\n",
              "0      0  研究 ： 北極 曾 有 極 暖 無 冰期 （ 法新社 華盛頓 21 日 電 ）   國際 科...   \n",
              "\n",
              "                                        cleaned_text  \n",
              "0  研究 北極 極 暖 冰期 法新社 華盛頓 電 國際 科學家 團隊 表示 根據 俄羅斯 深湖 ...  "
            ],
            "text/html": [
              "\n",
              "  <div id=\"df-1f1d84dd-b74a-4c8b-898f-140a3d12aed7\">\n",
              "    <div class=\"colab-df-container\">\n",
              "      <div>\n",
              "<style scoped>\n",
              "    .dataframe tbody tr th:only-of-type {\n",
              "        vertical-align: middle;\n",
              "    }\n",
              "\n",
              "    .dataframe tbody tr th {\n",
              "        vertical-align: top;\n",
              "    }\n",
              "\n",
              "    .dataframe thead th {\n",
              "        text-align: right;\n",
              "    }\n",
              "</style>\n",
              "<table border=\"1\" class=\"dataframe\">\n",
              "  <thead>\n",
              "    <tr style=\"text-align: right;\">\n",
              "      <th></th>\n",
              "      <th>label</th>\n",
              "      <th>cut_text</th>\n",
              "      <th>cleaned_text</th>\n",
              "    </tr>\n",
              "  </thead>\n",
              "  <tbody>\n",
              "    <tr>\n",
              "      <th>0</th>\n",
              "      <td>0</td>\n",
              "      <td>研究 ： 北極 曾 有 極 暖 無 冰期 （ 法新社 華盛頓 21 日 電 ）   國際 科...</td>\n",
              "      <td>研究 北極 極 暖 冰期 法新社 華盛頓 電 國際 科學家 團隊 表示 根據 俄羅斯 深湖 ...</td>\n",
              "    </tr>\n",
              "  </tbody>\n",
              "</table>\n",
              "</div>\n",
              "      <button class=\"colab-df-convert\" onclick=\"convertToInteractive('df-1f1d84dd-b74a-4c8b-898f-140a3d12aed7')\"\n",
              "              title=\"Convert this dataframe to an interactive table.\"\n",
              "              style=\"display:none;\">\n",
              "        \n",
              "  <svg xmlns=\"http://www.w3.org/2000/svg\" height=\"24px\"viewBox=\"0 0 24 24\"\n",
              "       width=\"24px\">\n",
              "    <path d=\"M0 0h24v24H0V0z\" fill=\"none\"/>\n",
              "    <path d=\"M18.56 5.44l.94 2.06.94-2.06 2.06-.94-2.06-.94-.94-2.06-.94 2.06-2.06.94zm-11 1L8.5 8.5l.94-2.06 2.06-.94-2.06-.94L8.5 2.5l-.94 2.06-2.06.94zm10 10l.94 2.06.94-2.06 2.06-.94-2.06-.94-.94-2.06-.94 2.06-2.06.94z\"/><path d=\"M17.41 7.96l-1.37-1.37c-.4-.4-.92-.59-1.43-.59-.52 0-1.04.2-1.43.59L10.3 9.45l-7.72 7.72c-.78.78-.78 2.05 0 2.83L4 21.41c.39.39.9.59 1.41.59.51 0 1.02-.2 1.41-.59l7.78-7.78 2.81-2.81c.8-.78.8-2.07 0-2.86zM5.41 20L4 18.59l7.72-7.72 1.47 1.35L5.41 20z\"/>\n",
              "  </svg>\n",
              "      </button>\n",
              "      \n",
              "  <style>\n",
              "    .colab-df-container {\n",
              "      display:flex;\n",
              "      flex-wrap:wrap;\n",
              "      gap: 12px;\n",
              "    }\n",
              "\n",
              "    .colab-df-convert {\n",
              "      background-color: #E8F0FE;\n",
              "      border: none;\n",
              "      border-radius: 50%;\n",
              "      cursor: pointer;\n",
              "      display: none;\n",
              "      fill: #1967D2;\n",
              "      height: 32px;\n",
              "      padding: 0 0 0 0;\n",
              "      width: 32px;\n",
              "    }\n",
              "\n",
              "    .colab-df-convert:hover {\n",
              "      background-color: #E2EBFA;\n",
              "      box-shadow: 0px 1px 2px rgba(60, 64, 67, 0.3), 0px 1px 3px 1px rgba(60, 64, 67, 0.15);\n",
              "      fill: #174EA6;\n",
              "    }\n",
              "\n",
              "    [theme=dark] .colab-df-convert {\n",
              "      background-color: #3B4455;\n",
              "      fill: #D2E3FC;\n",
              "    }\n",
              "\n",
              "    [theme=dark] .colab-df-convert:hover {\n",
              "      background-color: #434B5C;\n",
              "      box-shadow: 0px 1px 3px 1px rgba(0, 0, 0, 0.15);\n",
              "      filter: drop-shadow(0px 1px 2px rgba(0, 0, 0, 0.3));\n",
              "      fill: #FFFFFF;\n",
              "    }\n",
              "  </style>\n",
              "\n",
              "      <script>\n",
              "        const buttonEl =\n",
              "          document.querySelector('#df-1f1d84dd-b74a-4c8b-898f-140a3d12aed7 button.colab-df-convert');\n",
              "        buttonEl.style.display =\n",
              "          google.colab.kernel.accessAllowed ? 'block' : 'none';\n",
              "\n",
              "        async function convertToInteractive(key) {\n",
              "          const element = document.querySelector('#df-1f1d84dd-b74a-4c8b-898f-140a3d12aed7');\n",
              "          const dataTable =\n",
              "            await google.colab.kernel.invokeFunction('convertToInteractive',\n",
              "                                                     [key], {});\n",
              "          if (!dataTable) return;\n",
              "\n",
              "          const docLinkHtml = 'Like what you see? Visit the ' +\n",
              "            '<a target=\"_blank\" href=https://colab.research.google.com/notebooks/data_table.ipynb>data table notebook</a>'\n",
              "            + ' to learn more about interactive tables.';\n",
              "          element.innerHTML = '';\n",
              "          dataTable['output_type'] = 'display_data';\n",
              "          await google.colab.output.renderOutput(dataTable, element);\n",
              "          const docLink = document.createElement('div');\n",
              "          docLink.innerHTML = docLinkHtml;\n",
              "          element.appendChild(docLink);\n",
              "        }\n",
              "      </script>\n",
              "    </div>\n",
              "  </div>\n",
              "  "
            ]
          },
          "metadata": {},
          "execution_count": 7
        }
      ],
      "source": [
        "test = pd.read_excel('/content/drive/MyDrive/自然語言競賽/test_jieba+monpa.xlsx')\n",
        "test.head(1)"
      ]
    },
    {
      "cell_type": "code",
      "execution_count": 8,
      "id": "385f89ef",
      "metadata": {
        "colab": {
          "base_uri": "https://localhost:8080/"
        },
        "id": "385f89ef",
        "outputId": "285c651d-e0ab-4be7-f047-0e0c95930799"
      },
      "outputs": [
        {
          "output_type": "execute_result",
          "data": {
            "text/plain": [
              "label           0\n",
              "cut_text        0\n",
              "cleaned_text    0\n",
              "dtype: int64"
            ]
          },
          "metadata": {},
          "execution_count": 8
        }
      ],
      "source": [
        "test.isna().sum()"
      ]
    },
    {
      "cell_type": "markdown",
      "id": "20feb27a",
      "metadata": {
        "id": "20feb27a"
      },
      "source": [
        "## label encoding"
      ]
    },
    {
      "cell_type": "code",
      "execution_count": null,
      "id": "0b8021e4",
      "metadata": {
        "scrolled": true,
        "id": "0b8021e4"
      },
      "outputs": [],
      "source": [
        "# str_encode_num = {'informative':0, 'happy':1, 'angry':2, 'depressing':3, 'odd':4, 'boring':5, 'warm':6,'worried':7}\n",
        "# train['label'] = train['label'].apply(lambda x: str_encode_num[x]).astype(\"int\")\n",
        "# train.head()"
      ]
    },
    {
      "cell_type": "code",
      "execution_count": null,
      "id": "aa85c9e7",
      "metadata": {
        "id": "aa85c9e7"
      },
      "outputs": [],
      "source": [
        "# train_o[\"cleaned_text\"] = train_o[\"cleaned_text\"].fillna(\"NoName\")\n",
        "# test[\"cleaned_text\"] = test[\"cleaned_text\"].fillna(\"NoName\")"
      ]
    },
    {
      "cell_type": "code",
      "execution_count": null,
      "id": "fcb83e4c",
      "metadata": {
        "scrolled": true,
        "id": "fcb83e4c"
      },
      "outputs": [],
      "source": [
        "train_o[3040:3051]"
      ]
    },
    {
      "cell_type": "markdown",
      "id": "fdf87ea4",
      "metadata": {
        "id": "fdf87ea4"
      },
      "source": [
        "## 評估結果(尚未修改)"
      ]
    },
    {
      "cell_type": "code",
      "execution_count": null,
      "id": "ffae4c82",
      "metadata": {
        "id": "ffae4c82"
      },
      "outputs": [],
      "source": [
        "test_y_pred = model.predict(test_x)"
      ]
    },
    {
      "cell_type": "code",
      "execution_count": null,
      "id": "d9c68403",
      "metadata": {
        "id": "d9c68403"
      },
      "outputs": [],
      "source": [
        "pd.DataFrame(confusion_matrix(test_y, test_y_pred), columns=y_encoder.classes_, index=y_encoder.classes_)"
      ]
    },
    {
      "cell_type": "code",
      "execution_count": null,
      "id": "aee4c128",
      "metadata": {
        "id": "aee4c128"
      },
      "outputs": [],
      "source": [
        ""
      ]
    },
    {
      "cell_type": "code",
      "execution_count": null,
      "id": "2f4f12bc",
      "metadata": {
        "id": "2f4f12bc"
      },
      "outputs": [],
      "source": [
        "def eval_model(y_true, y_pred, labels):\n",
        "    p, r, f1, s = precision_recall_fscore_support(y_true, y_pred)\n",
        "    tot_p = np.average(p, weights=s)\n",
        "    tot_r = np.average(r, weights=s)\n",
        "    tot_f1 = np.average(f1, weights=s)\n",
        "    tot_s = np.sum(s)\n",
        "    res1 = pd.DataFrame({\n",
        "        u'Label':labels,\n",
        "        u'Precision':p,\n",
        "        u'Recall':r,\n",
        "        u'F1':f1,\n",
        "        u'Support':s, \n",
        "    })\n",
        "    res2 = pd.DataFrame({\n",
        "        u'Label':[u'total'],\n",
        "        u'Precision':[tot_p],\n",
        "        u'Recall':[tot_r],\n",
        "        u'F1':[tot_f1],\n",
        "        u'Support':[tot_s], \n",
        "    })\n",
        "    res2.index =[999]\n",
        "    res = pd.concat([res1, res2])\n",
        "    return res[[u'Label',u'Precision',u'Recall',u'F1',u'Support']]"
      ]
    },
    {
      "cell_type": "code",
      "execution_count": null,
      "id": "b7d19320",
      "metadata": {
        "id": "b7d19320"
      },
      "outputs": [],
      "source": [
        "eval_model(test_y, test_y_pred, y_encoder.classes_)"
      ]
    },
    {
      "cell_type": "markdown",
      "id": "8e53d6e5",
      "metadata": {
        "id": "8e53d6e5"
      },
      "source": [
        "## 分出特徵、標籤"
      ]
    },
    {
      "cell_type": "code",
      "execution_count": 9,
      "id": "bb57d183",
      "metadata": {
        "scrolled": true,
        "id": "bb57d183"
      },
      "outputs": [],
      "source": [
        "features = train_o[\"cleaned_text\"].values\n",
        "labels = train_o['label'].values\n",
        "features_pre = test[\"cleaned_text\"].values"
      ]
    },
    {
      "cell_type": "markdown",
      "id": "56ddb6d0",
      "metadata": {
        "id": "56ddb6d0"
      },
      "source": [
        "## ComplementNB"
      ]
    },
    {
      "cell_type": "code",
      "execution_count": 11,
      "id": "ca372707",
      "metadata": {
        "scrolled": true,
        "colab": {
          "base_uri": "https://localhost:8080/"
        },
        "id": "ca372707",
        "outputId": "74884914-9d52-45e7-998b-4996b71640e0"
      },
      "outputs": [
        {
          "output_type": "stream",
          "name": "stdout",
          "text": [
            "\n",
            "### 1 ###\n",
            "\n",
            "              precision    recall  f1-score   support\n",
            "\n",
            "       angry       0.58      0.68      0.62       353\n",
            "      boring       0.77      0.52      0.62       178\n",
            "  depressing       0.64      0.65      0.65       191\n",
            "       happy       0.60      0.59      0.60       542\n",
            " informative       0.72      0.76      0.74      1175\n",
            "         odd       0.65      0.41      0.50       171\n",
            "        warm       0.72      0.71      0.71        96\n",
            "     worried       0.54      0.32      0.40        22\n",
            "\n",
            "    accuracy                           0.67      2728\n",
            "   macro avg       0.65      0.58      0.61      2728\n",
            "weighted avg       0.67      0.67      0.66      2728\n",
            "                                                                                                                                                                                                                                                                                                                                                                                                                                                                                                                                                            ------------------------------------------------------------\n",
            "\n",
            "### 2 ###\n",
            "\n",
            "              precision    recall  f1-score   support\n",
            "\n",
            "       angry       0.58      0.71      0.64       375\n",
            "      boring       0.59      0.48      0.52       166\n",
            "  depressing       0.66      0.62      0.64       176\n",
            "       happy       0.59      0.53      0.56       534\n",
            " informative       0.70      0.75      0.73      1189\n",
            "         odd       0.66      0.47      0.55       179\n",
            "        warm       0.62      0.67      0.64        82\n",
            "     worried       0.75      0.33      0.46        27\n",
            "\n",
            "    accuracy                           0.65      2728\n",
            "   macro avg       0.64      0.57      0.59      2728\n",
            "weighted avg       0.65      0.65      0.65      2728\n",
            "                                                                                                                                                                                                                                                                                                                                                                                                                                                                                                                                                            ------------------------------------------------------------\n",
            "\n",
            "### 3 ###\n",
            "\n",
            "              precision    recall  f1-score   support\n",
            "\n",
            "       angry       0.56      0.66      0.61       343\n",
            "      boring       0.63      0.43      0.51       182\n",
            "  depressing       0.59      0.61      0.60       179\n",
            "       happy       0.58      0.57      0.58       529\n",
            " informative       0.71      0.75      0.73      1196\n",
            "         odd       0.75      0.49      0.59       181\n",
            "        warm       0.58      0.65      0.61        84\n",
            "     worried       0.67      0.24      0.35        34\n",
            "\n",
            "    accuracy                           0.65      2728\n",
            "   macro avg       0.63      0.55      0.57      2728\n",
            "weighted avg       0.65      0.65      0.64      2728\n",
            "                                                                                                                                                                                                                                                                                                                                                                                                                                                                                                                                                            ------------------------------------------------------------\n",
            "\n",
            "### 4 ###\n",
            "\n",
            "              precision    recall  f1-score   support\n",
            "\n",
            "       angry       0.57      0.65      0.61       347\n",
            "      boring       0.74      0.48      0.58       170\n",
            "  depressing       0.59      0.60      0.59       194\n",
            "       happy       0.57      0.57      0.57       535\n",
            " informative       0.70      0.74      0.72      1180\n",
            "         odd       0.62      0.45      0.53       165\n",
            "        warm       0.69      0.68      0.69       104\n",
            "     worried       0.69      0.27      0.39        33\n",
            "\n",
            "    accuracy                           0.64      2728\n",
            "   macro avg       0.65      0.56      0.58      2728\n",
            "weighted avg       0.65      0.64      0.64      2728\n",
            "                                                                                                                                                                                                                                                                                                                                                                                                                                                                                                                                                            ------------------------------------------------------------\n",
            "\n",
            "### 5 ###\n",
            "\n",
            "              precision    recall  f1-score   support\n",
            "\n",
            "       angry       0.59      0.69      0.64       391\n",
            "      boring       0.67      0.49      0.57       148\n",
            "  depressing       0.52      0.59      0.56       162\n",
            "       happy       0.56      0.54      0.55       530\n",
            " informative       0.70      0.73      0.72      1179\n",
            "         odd       0.69      0.46      0.55       181\n",
            "        warm       0.67      0.75      0.71       101\n",
            "     worried       1.00      0.25      0.40        36\n",
            "\n",
            "    accuracy                           0.64      2728\n",
            "   macro avg       0.68      0.56      0.59      2728\n",
            "weighted avg       0.65      0.64      0.64      2728\n",
            "                                                                                                                                                                                                                                                                                                                                                                                                                                                                                                                                                            ------------------------------------------------------------\n",
            "\n",
            "### 6 ###\n",
            "\n",
            "              precision    recall  f1-score   support\n",
            "\n",
            "       angry       0.58      0.70      0.64       368\n",
            "      boring       0.65      0.49      0.56       166\n",
            "  depressing       0.57      0.63      0.60       172\n",
            "       happy       0.53      0.52      0.52       518\n",
            " informative       0.72      0.73      0.72      1215\n",
            "         odd       0.61      0.46      0.52       175\n",
            "        warm       0.74      0.68      0.71        84\n",
            "     worried       0.80      0.41      0.55        29\n",
            "\n",
            "    accuracy                           0.64      2727\n",
            "   macro avg       0.65      0.58      0.60      2727\n",
            "weighted avg       0.64      0.64      0.64      2727\n",
            "                                                                                                                                                                                                                                                                                                                                                                                                                                                                                                                                                            ------------------------------------------------------------\n",
            "\n",
            "### 7 ###\n",
            "\n",
            "              precision    recall  f1-score   support\n",
            "\n",
            "       angry       0.58      0.70      0.63       379\n",
            "      boring       0.69      0.50      0.58       169\n",
            "  depressing       0.70      0.66      0.68       180\n",
            "       happy       0.59      0.56      0.57       564\n",
            " informative       0.71      0.75      0.73      1134\n",
            "         odd       0.67      0.51      0.58       169\n",
            "        warm       0.71      0.66      0.69       109\n",
            "     worried       0.67      0.17      0.28        23\n",
            "\n",
            "    accuracy                           0.66      2727\n",
            "   macro avg       0.66      0.56      0.59      2727\n",
            "weighted avg       0.66      0.66      0.65      2727\n",
            "                                                                                                                                                                                                                                                                                                                                                                                                                                                                                                                                                            ------------------------------------------------------------\n",
            "\n",
            "### 8 ###\n",
            "\n",
            "              precision    recall  f1-score   support\n",
            "\n",
            "       angry       0.59      0.68      0.63       386\n",
            "      boring       0.71      0.54      0.62       173\n",
            "  depressing       0.65      0.63      0.64       185\n",
            "       happy       0.56      0.52      0.53       498\n",
            " informative       0.71      0.77      0.74      1172\n",
            "         odd       0.70      0.45      0.55       196\n",
            "        warm       0.54      0.62      0.58        80\n",
            "     worried       0.73      0.22      0.33        37\n",
            "\n",
            "    accuracy                           0.65      2727\n",
            "   macro avg       0.65      0.55      0.58      2727\n",
            "weighted avg       0.65      0.65      0.65      2727\n",
            "                                                                                                                                                                                                                                                                                                                                                                                                                                                                                                                                                            ------------------------------------------------------------\n",
            "\n",
            "### 9 ###\n",
            "\n",
            "              precision    recall  f1-score   support\n",
            "\n",
            "       angry       0.59      0.69      0.63       394\n",
            "      boring       0.61      0.50      0.55       151\n",
            "  depressing       0.63      0.60      0.61       177\n",
            "       happy       0.59      0.59      0.59       538\n",
            " informative       0.71      0.74      0.73      1147\n",
            "         odd       0.67      0.43      0.52       197\n",
            "        warm       0.75      0.70      0.72       106\n",
            "     worried       0.56      0.29      0.38        17\n",
            "\n",
            "    accuracy                           0.66      2727\n",
            "   macro avg       0.64      0.57      0.59      2727\n",
            "weighted avg       0.66      0.66      0.65      2727\n",
            "                                                                                                                                                                                                                                                                                                                                                                                                                                                                                                                                                            ------------------------------------------------------------\n",
            "\n",
            "### 10 ###\n",
            "\n",
            "              precision    recall  f1-score   support\n",
            "\n",
            "       angry       0.57      0.70      0.63       355\n",
            "      boring       0.72      0.47      0.57       195\n",
            "  depressing       0.62      0.61      0.62       194\n",
            "       happy       0.57      0.55      0.56       536\n",
            " informative       0.69      0.75      0.72      1158\n",
            "         odd       0.67      0.41      0.51       166\n",
            "        warm       0.75      0.74      0.74        96\n",
            "     worried       1.00      0.30      0.46        27\n",
            "\n",
            "    accuracy                           0.65      2727\n",
            "   macro avg       0.70      0.56      0.60      2727\n",
            "weighted avg       0.65      0.65      0.64      2727\n",
            "                                                                                                                                                                                                                                                                                                                                                                                                                                                                                                                                                            ------------------------------------------------------------\n",
            "=====================Kfold Performance======================\n",
            "\n",
            "              precision    recall  f1-score   support\n",
            "\n",
            "       angry       0.58      0.69      0.63      3691\n",
            "      boring       0.68      0.49      0.57      1698\n",
            "  depressing       0.62      0.62      0.62      1810\n",
            "       happy       0.57      0.55      0.56      5324\n",
            " informative       0.71      0.75      0.73     11745\n",
            "         odd       0.67      0.46      0.54      1780\n",
            "        warm       0.68      0.69      0.68       942\n",
            "     worried       0.73      0.28      0.40       285\n",
            "\n",
            "    accuracy                           0.65     27275\n",
            "   macro avg       0.65      0.56      0.59     27275\n",
            "weighted avg       0.65      0.65      0.65     27275\n",
            "                                                                                                                                                                                                                                                                                                                                                                                                                                                                                                                                                            ------------------------------------------------------------\n",
            "\n",
            "Confusion Matrix\n",
            "[[2535   29  101  116  824   68   16    2]\n",
            " [ 233  830   14  230  342   33   16    0]\n",
            " [  38   20 1124  310  281   18   18    1]\n",
            " [ 424  145   74 2952 1589   77   62    1]\n",
            " [ 837  154  337 1266 8773  176  183   19]\n",
            " [ 293   41   90  162  360  811   17    6]\n",
            " [  15    6   45  103  113   11  649    0]\n",
            " [   7    0   38    0  143   18    0   79]]\n"
          ]
        }
      ],
      "source": [
        "model = ComplementNB()\n",
        "\n",
        "kf = KFold(n_splits = 10, shuffle = True)\n",
        "tfidf_BOW = TfidfVectorizer(max_features = 50000)\n",
        "\n",
        "expected_kfold = []\n",
        "predicted_kfold = []\n",
        "\n",
        "for idx, (train_index, test_index) in enumerate(kf.split(train_o)):\n",
        "    x_train = [features[i] for i in train_index]\n",
        "    y_train = labels[train_index]\n",
        "    x_test = [features[i] for i in test_index]\n",
        "    y_test = labels[test_index]\n",
        "    \n",
        "    # TF-IDF\n",
        "    x_train_tfidf = tfidf_BOW.fit_transform(x_train)\n",
        "    x_test_tfidf = tfidf_BOW.transform(x_test)\n",
        "    model.fit(x_train_tfidf, y_train) \n",
        "    \n",
        "    # make predicitions\n",
        "    expected = y_test\n",
        "    predicted = model.predict(x_test_tfidf)\n",
        "    expected_kfold.extend(expected)\n",
        "    predicted_kfold.extend(predicted)\n",
        "    \n",
        "    print(f\"\\n### {idx+1} ###\\n\")\n",
        "    print(f'{metrics.classification_report(expected, predicted)}{\"-\"*60:>600}')\n",
        "    \n",
        "print(f'{\"===Kfold Performance===\":=^60}\\n')\n",
        "print(f'{metrics.classification_report(expected_kfold, predicted_kfold)}{\"-\"*60:>600}')\n",
        "print(f\"\\nConfusion Matrix\\n{metrics.confusion_matrix(expected_kfold, predicted_kfold)}\")"
      ]
    },
    {
      "cell_type": "code",
      "execution_count": 12,
      "id": "e3c6e775",
      "metadata": {
        "id": "e3c6e775"
      },
      "outputs": [],
      "source": [
        "x_train = features\n",
        "y_train = labels\n",
        "x_TEST = features_pre\n",
        "\n",
        "# TF-IDF\n",
        "x_train_tfidf = tfidf_BOW.fit_transform(x_train)\n",
        "x_TEST_tfidf = tfidf_BOW.transform(x_TEST)\n",
        "model.fit(x_train_tfidf, y_train) \n",
        "\n",
        "# make predicitions\n",
        "TEST_predict_result = model.predict(x_TEST_tfidf)\n",
        "\n",
        "# transform label string to numbic due to Kaggle requirements.        \n",
        "str_encode_num = {'informative':0, 'happy':1, 'angry':2, 'depressing':3, 'odd':4, 'boring':5, 'warm':6,'worried':7}\n",
        "\n",
        "# output result to csv file\n",
        "# with open(\"./CNB 整理過train.csv\", \"w\", encoding=\"utf-8\") as f:\n",
        "#     f.write(f'Id,Label\\n')\n",
        "#     for idx, item in enumerate([str_encode_num[item] for item in TEST_predict_result]):\n",
        "#         f.write(f'{idx},{item}\\n')"
      ]
    },
    {
      "cell_type": "code",
      "source": [
        "#混淆矩陣\n",
        "\n",
        "cm = metrics.confusion_matrix(expected_kfold, predicted_kfold)\n",
        "cm\n",
        "#轉dataframe\n",
        "\n",
        "df_cm = pd.DataFrame(cm)\n",
        "df_cm\n",
        "\n",
        "#annot = True 顯示數字 ，fmt參數不使用科學計數法進行顯示\n",
        "ax = sns.heatmap(df_cm,annot=True,fmt='.20g')\n",
        "ax.set_title('CNB_max_features_50000') #標題\n",
        "ax.set_xlabel('predict') #x軸\n",
        "ax.set_ylabel('true')"
      ],
      "metadata": {
        "colab": {
          "base_uri": "https://localhost:8080/",
          "height": 312
        },
        "id": "sMWYpgn-n6U6",
        "outputId": "cd0d84d3-7789-4fe2-c815-da0692a56d78"
      },
      "id": "sMWYpgn-n6U6",
      "execution_count": 13,
      "outputs": [
        {
          "output_type": "execute_result",
          "data": {
            "text/plain": [
              "Text(33.0, 0.5, 'true')"
            ]
          },
          "metadata": {},
          "execution_count": 13
        },
        {
          "output_type": "display_data",
          "data": {
            "text/plain": [
              "<Figure size 432x288 with 2 Axes>"
            ],
            "image/png": "[encoded data removed]"
          },
          "metadata": {
            "needs_background": "light"
          }
        }
      ]
    },
    {
      "cell_type": "markdown",
      "id": "e63f5406",
      "metadata": {
        "id": "e63f5406"
      },
      "source": [
        "## MultinomialNB(尚未修改)"
      ]
    },
    {
      "cell_type": "code",
      "execution_count": null,
      "id": "7764455c",
      "metadata": {
        "id": "7764455c"
      },
      "outputs": [],
      "source": [
        "features = train_o[\"cleaned_text\"].values\n",
        "labels = train_o['label'].values\n",
        "features_pre = test[\"cleaned_text\"].values"
      ]
    },
    {
      "cell_type": "code",
      "execution_count": null,
      "id": "97891ffc",
      "metadata": {
        "scrolled": true,
        "id": "97891ffc"
      },
      "outputs": [],
      "source": [
        "model = MultinomialNB()\n",
        "\n",
        "kf = KFold(n_splits = 10, shuffle = True)\n",
        "tfidf_BOW = TfidfVectorizer(max_features = 16000)\n",
        "\n",
        "expected_kfold = []\n",
        "predicted_kfold = []\n",
        "\n",
        "for idx, (train_index, test_index) in enumerate(kf.split(train_o)):\n",
        "    x_train = [features[i] for i in train_index]\n",
        "    y_train = labels[train_index]\n",
        "    x_test = [features[i] for i in test_index]\n",
        "    y_test = labels[test_index]\n",
        "    \n",
        "    # TF-IDF\n",
        "    x_train_tfidf = tfidf_BOW.fit_transform(x_train)\n",
        "    x_test_tfidf = tfidf_BOW.transform(x_test)\n",
        "    model.fit(x_train_tfidf, y_train)\n",
        "\n",
        "    # make predictions\n",
        "    expected = y_test\n",
        "    predicted = model.predict(x_test_tfidf)\n",
        "    expected_kfold.extend(expected)\n",
        "    predicted_kfold.extend(predicted)\n",
        "    \n",
        "    print(f\"\\n### {idx+1} ###\\n\")\n",
        "    print(f'{metrics.classification_report(expected, predicted)}{\"-\"*60:>600}')\n",
        "\n",
        "print(f'{\"===Kfold Performance===\":=^60}\\n')\n",
        "print(f'{metrics.classification_report(expected_kfold, predicted_kfold)}{\"-\"*60:>600}')\n",
        "print(f\"\\nConfusion Matrix\\n{metrics.confusion_matrix(expected_kfold, predicted_kfold)}\")"
      ]
    },
    {
      "cell_type": "code",
      "execution_count": null,
      "id": "fd13c230",
      "metadata": {
        "id": "fd13c230"
      },
      "outputs": [],
      "source": [
        "set(expected)-set(predicted)"
      ]
    },
    {
      "cell_type": "code",
      "execution_count": null,
      "id": "bfe0745b",
      "metadata": {
        "id": "bfe0745b"
      },
      "outputs": [],
      "source": [
        "metrics.f1_score(expected, predicted, average='weighted', labels=np.unique(predicted))"
      ]
    },
    {
      "cell_type": "code",
      "execution_count": null,
      "id": "b3cebb2c",
      "metadata": {
        "id": "b3cebb2c"
      },
      "outputs": [],
      "source": [
        "x_train = features\n",
        "y_train = labels\n",
        "x_TEST = features_pre\n",
        "\n",
        "# TF-IDF\n",
        "x_train_tfidf = tfidf_BOW.fit_transform(x_train)\n",
        "x_TEST_tfidf = tfidf_BOW.transform(x_TEST)\n",
        "model.fit(x_train_tfidf, y_train) \n",
        "\n",
        "# make predicitions\n",
        "TEST_predict_result = model.predict(x_TEST_tfidf)\n",
        "\n",
        "# transform label string to numbic due to Kaggle requirements.        \n",
        "str_encode_num = {'informative':0, 'happy':1, 'angry':2, 'depressing':3, 'odd':4, 'boring':5, 'warm':6,'worried':7}\n",
        "\n",
        "# output result to csv file\n",
        "with open(\"./Logistic Regrssion 調整 max_df 0.9, min_df 0.1.csv\", \"w\", encoding=\"utf-8\") as f:\n",
        "    f.write(f'Id,Label\\n')\n",
        "    for idx, item in enumerate([str_encode_num[item] for item in TEST_predict_result]):\n",
        "        f.write(f'{idx},{item}\\n')"
      ]
    },
    {
      "cell_type": "markdown",
      "id": "1ab69792",
      "metadata": {
        "id": "1ab69792"
      },
      "source": [
        "## decision tree"
      ]
    },
    {
      "cell_type": "code",
      "execution_count": 10,
      "id": "b317d605",
      "metadata": {
        "scrolled": true,
        "colab": {
          "base_uri": "https://localhost:8080/"
        },
        "id": "b317d605",
        "outputId": "c10f68ec-0c8b-4507-ac30-466704def834"
      },
      "outputs": [
        {
          "output_type": "stream",
          "name": "stdout",
          "text": [
            "\n",
            "### 1 ###\n",
            "\n",
            "              precision    recall  f1-score   support\n",
            "\n",
            "       angry       0.50      0.47      0.49       381\n",
            "      boring       0.54      0.60      0.57       157\n",
            "  depressing       0.63      0.61      0.62       175\n",
            "       happy       0.44      0.44      0.44       512\n",
            " informative       0.67      0.67      0.67      1204\n",
            "         odd       0.58      0.65      0.61       174\n",
            "        warm       0.65      0.67      0.66        96\n",
            "     worried       0.67      0.62      0.64        29\n",
            "\n",
            "    accuracy                           0.59      2728\n",
            "   macro avg       0.59      0.59      0.59      2728\n",
            "weighted avg       0.59      0.59      0.59      2728\n",
            "                                                                                                                                                                                                                                                                                                                                                                                                                                                                                                                                                            ------------------------------------------------------------\n",
            "\n",
            "### 2 ###\n",
            "\n",
            "              precision    recall  f1-score   support\n",
            "\n",
            "       angry       0.44      0.41      0.43       379\n",
            "      boring       0.55      0.63      0.58       171\n",
            "  depressing       0.63      0.65      0.64       183\n",
            "       happy       0.41      0.38      0.40       525\n",
            " informative       0.66      0.65      0.66      1167\n",
            "         odd       0.57      0.66      0.61       181\n",
            "        warm       0.65      0.69      0.67        95\n",
            "     worried       0.48      0.59      0.53        27\n",
            "\n",
            "    accuracy                           0.57      2728\n",
            "   macro avg       0.55      0.58      0.56      2728\n",
            "weighted avg       0.56      0.57      0.56      2728\n",
            "                                                                                                                                                                                                                                                                                                                                                                                                                                                                                                                                                            ------------------------------------------------------------\n",
            "\n",
            "### 3 ###\n",
            "\n",
            "              precision    recall  f1-score   support\n",
            "\n",
            "       angry       0.43      0.38      0.40       384\n",
            "      boring       0.57      0.59      0.58       166\n",
            "  depressing       0.53      0.59      0.56       172\n",
            "       happy       0.46      0.39      0.43       544\n",
            " informative       0.63      0.68      0.65      1157\n",
            "         odd       0.53      0.63      0.58       164\n",
            "        warm       0.66      0.53      0.59       117\n",
            "     worried       0.48      0.58      0.53        24\n",
            "\n",
            "    accuracy                           0.56      2728\n",
            "   macro avg       0.54      0.55      0.54      2728\n",
            "weighted avg       0.55      0.56      0.55      2728\n",
            "                                                                                                                                                                                                                                                                                                                                                                                                                                                                                                                                                            ------------------------------------------------------------\n",
            "\n",
            "### 4 ###\n",
            "\n",
            "              precision    recall  f1-score   support\n",
            "\n",
            "       angry       0.43      0.40      0.42       355\n",
            "      boring       0.53      0.65      0.58       154\n",
            "  depressing       0.62      0.64      0.63       177\n",
            "       happy       0.42      0.39      0.41       536\n",
            " informative       0.65      0.66      0.66      1196\n",
            "         odd       0.54      0.58      0.56       186\n",
            "        warm       0.65      0.59      0.61        94\n",
            "     worried       0.69      0.73      0.71        30\n",
            "\n",
            "    accuracy                           0.57      2728\n",
            "   macro avg       0.57      0.58      0.57      2728\n",
            "weighted avg       0.56      0.57      0.56      2728\n",
            "                                                                                                                                                                                                                                                                                                                                                                                                                                                                                                                                                            ------------------------------------------------------------\n",
            "\n",
            "### 5 ###\n",
            "\n",
            "              precision    recall  f1-score   support\n",
            "\n",
            "       angry       0.45      0.42      0.43       353\n",
            "      boring       0.52      0.57      0.55       168\n",
            "  depressing       0.59      0.65      0.62       173\n",
            "       happy       0.45      0.40      0.42       533\n",
            " informative       0.66      0.68      0.67      1209\n",
            "         odd       0.61      0.65      0.63       180\n",
            "        warm       0.61      0.59      0.60        81\n",
            "     worried       0.53      0.52      0.52        31\n",
            "\n",
            "    accuracy                           0.58      2728\n",
            "   macro avg       0.55      0.56      0.55      2728\n",
            "weighted avg       0.57      0.58      0.57      2728\n",
            "                                                                                                                                                                                                                                                                                                                                                                                                                                                                                                                                                            ------------------------------------------------------------\n",
            "\n",
            "### 6 ###\n",
            "\n",
            "              precision    recall  f1-score   support\n",
            "\n",
            "       angry       0.51      0.47      0.49       389\n",
            "      boring       0.54      0.62      0.58       157\n",
            "  depressing       0.63      0.66      0.65       169\n",
            "       happy       0.46      0.45      0.46       521\n",
            " informative       0.67      0.67      0.67      1187\n",
            "         odd       0.55      0.60      0.57       181\n",
            "        warm       0.64      0.65      0.64        91\n",
            "     worried       0.64      0.56      0.60        32\n",
            "\n",
            "    accuracy                           0.59      2727\n",
            "   macro avg       0.58      0.59      0.58      2727\n",
            "weighted avg       0.59      0.59      0.59      2727\n",
            "                                                                                                                                                                                                                                                                                                                                                                                                                                                                                                                                                            ------------------------------------------------------------\n",
            "\n",
            "### 7 ###\n",
            "\n",
            "              precision    recall  f1-score   support\n",
            "\n",
            "       angry       0.46      0.43      0.45       350\n",
            "      boring       0.62      0.64      0.63       195\n",
            "  depressing       0.65      0.67      0.66       179\n",
            "       happy       0.47      0.43      0.45       558\n",
            " informative       0.64      0.66      0.65      1131\n",
            "         odd       0.55      0.61      0.58       190\n",
            "        warm       0.67      0.63      0.65       100\n",
            "     worried       0.48      0.46      0.47        24\n",
            "\n",
            "    accuracy                           0.58      2727\n",
            "   macro avg       0.57      0.57      0.57      2727\n",
            "weighted avg       0.58      0.58      0.58      2727\n",
            "                                                                                                                                                                                                                                                                                                                                                                                                                                                                                                                                                            ------------------------------------------------------------\n",
            "\n",
            "### 8 ###\n",
            "\n",
            "              precision    recall  f1-score   support\n",
            "\n",
            "       angry       0.47      0.47      0.47       371\n",
            "      boring       0.53      0.65      0.58       180\n",
            "  depressing       0.72      0.65      0.68       202\n",
            "       happy       0.46      0.43      0.44       516\n",
            " informative       0.64      0.65      0.64      1165\n",
            "         odd       0.53      0.55      0.54       157\n",
            "        warm       0.61      0.59      0.60       104\n",
            "     worried       0.56      0.47      0.51        32\n",
            "\n",
            "    accuracy                           0.57      2727\n",
            "   macro avg       0.56      0.56      0.56      2727\n",
            "weighted avg       0.57      0.57      0.57      2727\n",
            "                                                                                                                                                                                                                                                                                                                                                                                                                                                                                                                                                            ------------------------------------------------------------\n",
            "\n",
            "### 9 ###\n",
            "\n",
            "              precision    recall  f1-score   support\n",
            "\n",
            "       angry       0.45      0.41      0.43       359\n",
            "      boring       0.58      0.68      0.63       179\n",
            "  depressing       0.57      0.64      0.60       181\n",
            "       happy       0.50      0.42      0.46       567\n",
            " informative       0.64      0.67      0.65      1149\n",
            "         odd       0.54      0.62      0.58       177\n",
            "        warm       0.58      0.64      0.61        81\n",
            "     worried       0.71      0.50      0.59        34\n",
            "\n",
            "    accuracy                           0.57      2727\n",
            "   macro avg       0.57      0.57      0.57      2727\n",
            "weighted avg       0.57      0.57      0.57      2727\n",
            "                                                                                                                                                                                                                                                                                                                                                                                                                                                                                                                                                            ------------------------------------------------------------\n",
            "\n",
            "### 10 ###\n",
            "\n",
            "              precision    recall  f1-score   support\n",
            "\n",
            "       angry       0.50      0.44      0.47       370\n",
            "      boring       0.56      0.67      0.61       171\n",
            "  depressing       0.62      0.67      0.65       199\n",
            "       happy       0.44      0.43      0.44       512\n",
            " informative       0.67      0.66      0.66      1180\n",
            "         odd       0.51      0.62      0.56       190\n",
            "        warm       0.59      0.57      0.58        83\n",
            "     worried       0.56      0.45      0.50        22\n",
            "\n",
            "    accuracy                           0.58      2727\n",
            "   macro avg       0.56      0.56      0.56      2727\n",
            "weighted avg       0.58      0.58      0.58      2727\n",
            "                                                                                                                                                                                                                                                                                                                                                                                                                                                                                                                                                            ------------------------------------------------------------\n",
            "=====================Kfold Performance======================\n",
            "\n",
            "              precision    recall  f1-score   support\n",
            "\n",
            "       angry       0.47      0.43      0.45      3691\n",
            "      boring       0.55      0.63      0.59      1698\n",
            "  depressing       0.62      0.64      0.63      1810\n",
            "       happy       0.45      0.42      0.43      5324\n",
            " informative       0.65      0.66      0.66     11745\n",
            "         odd       0.55      0.62      0.58      1780\n",
            "        warm       0.63      0.61      0.62       942\n",
            "     worried       0.58      0.55      0.56       285\n",
            "\n",
            "    accuracy                           0.57     27275\n",
            "   macro avg       0.56      0.57      0.57     27275\n",
            "weighted avg       0.57      0.57      0.57     27275\n",
            "                                                                                                                                                                                                                                                                                                                                                                                                                                                                                                                                                            ------------------------------------------------------------\n",
            "\n",
            "Confusion Matrix\n",
            "[[1589  115  126  426 1154  242   23   16]\n",
            " [ 102 1071   32  175  260   42   13    3]\n",
            " [  95   32 1166  138  295   53   24    7]\n",
            " [ 447  278  170 2216 1902  185  111   15]\n",
            " [ 982  374  298 1715 7805  348  156   67]\n",
            " [ 159   33   56  135  284 1101    7    5]\n",
            " [  29   32   27   81  179   16  577    1]\n",
            " [  13    1   12   17   71   13    1  157]]\n"
          ]
        }
      ],
      "source": [
        "model = DecisionTreeClassifier()\n",
        "\n",
        "kf = KFold(n_splits = 10, shuffle = True)\n",
        "tfidf_BOW = TfidfVectorizer(max_features = 16000) \n",
        "# tfidf_BOW = TfidfVectorizer(max_df = 0.6, min_df = 0.1)\n",
        "# tfidf_BOW = TfidfVectorizer(max_features=10000)\n",
        "\n",
        "expected_kfold = []\n",
        "predicted_kfold = []\n",
        "\n",
        "for idx, (train_index, test_index) in enumerate(kf.split(train_o)):\n",
        "    x_train = [features[i] for i in train_index]\n",
        "    y_train = labels[train_index]\n",
        "    x_test = [features[i] for i in test_index]\n",
        "    y_test = labels[test_index]\n",
        "    \n",
        "    # TF-IDF\n",
        "    x_train_tfidf = tfidf_BOW.fit_transform(x_train)\n",
        "    x_test_tfidf = tfidf_BOW.transform(x_test)\n",
        "    model.fit(x_train_tfidf, y_train)\n",
        "    \n",
        "    # make predicitions\n",
        "    expected = y_test\n",
        "    predicted = model.predict(x_test_tfidf)\n",
        "    expected_kfold.extend(expected)\n",
        "    predicted_kfold.extend(predicted)\n",
        "    \n",
        "    print(f\"\\n### {idx+1} ###\\n\")\n",
        "    print(f'{metrics.classification_report(expected, predicted)}{\"-\"*60:>600}')\n",
        "    \n",
        "print(f'{\"===Kfold Performance===\":=^60}\\n')\n",
        "print(f'{metrics.classification_report(expected_kfold, predicted_kfold)}{\"-\"*60:>600}')\n",
        "print(f\"\\nConfusion Matrix\\n{metrics.confusion_matrix(expected_kfold, predicted_kfold)}\")"
      ]
    },
    {
      "cell_type": "code",
      "execution_count": null,
      "id": "ddc176cf",
      "metadata": {
        "scrolled": true,
        "id": "ddc176cf"
      },
      "outputs": [],
      "source": [
        "# pd.DataFrame(confusion_matrix(expected_kfold, predicted_kfold), columns = train.label, index = train.label)"
      ]
    },
    {
      "cell_type": "code",
      "execution_count": 13,
      "id": "7c21342e",
      "metadata": {
        "scrolled": true,
        "id": "7c21342e"
      },
      "outputs": [],
      "source": [
        "x_train = features\n",
        "y_train = labels\n",
        "x_TEST = features_pre\n",
        "\n",
        "# TF-IDF\n",
        "x_train_tfidf = tfidf_BOW.fit_transform(x_train)\n",
        "x_TEST_tfidf = tfidf_BOW.transform(x_TEST)\n",
        "model.fit(x_train_tfidf, y_train) \n",
        "\n",
        "# make predicitions\n",
        "TEST_predict_result = model.predict(x_TEST_tfidf)\n",
        "\n",
        "# transform label string to numbic due to Kaggle requirements.        \n",
        "str_encode_num = {'informative':0, 'happy':1, 'angry':2, 'depressing':3, 'odd':4, 'boring':5, 'warm':6,'worried':7}\n",
        "\n",
        "# output result to csv file\n",
        "# with open(\"./decision tree 調整max_features 16500.csv\", \"w\", encoding=\"utf-8\") as f:\n",
        "#     f.write(f'Id,Label\\n')\n",
        "#     for idx, item in enumerate([str_encode_num[item] for item in TEST_predict_result]):\n",
        "#         f.write(f'{idx},{item}\\n')"
      ]
    },
    {
      "cell_type": "code",
      "source": [
        "print(type(expected_kfold))\n",
        "print(type(predicted_kfold))"
      ],
      "metadata": {
        "colab": {
          "base_uri": "https://localhost:8080/"
        },
        "id": "s_JmIf_odDiE",
        "outputId": "7fc0416f-25cd-4501-b145-acc34d0d093b"
      },
      "id": "s_JmIf_odDiE",
      "execution_count": 17,
      "outputs": [
        {
          "output_type": "stream",
          "name": "stdout",
          "text": [
            "<class 'list'>\n",
            "<class 'list'>\n"
          ]
        }
      ]
    },
    {
      "cell_type": "code",
      "execution_count": 23,
      "id": "a01a3f20",
      "metadata": {
        "colab": {
          "base_uri": "https://localhost:8080/",
          "height": 312
        },
        "id": "a01a3f20",
        "outputId": "5fb2ce05-9e53-4795-a68c-98c5a861301e"
      },
      "outputs": [
        {
          "output_type": "execute_result",
          "data": {
            "text/plain": [
              "Text(33.0, 0.5, 'true')"
            ]
          },
          "metadata": {},
          "execution_count": 23
        },
        {
          "output_type": "display_data",
          "data": {
            "text/plain": [
              "<Figure size 432x288 with 2 Axes>"
            ],
            "image/png": "[encoded data removed]"
          },
          "metadata": {
            "needs_background": "light"
          }
        }
      ],
      "source": [
        "#混淆矩陣\n",
        "\n",
        "cm = metrics.confusion_matrix(expected_kfold, predicted_kfold)\n",
        "cm\n",
        "#轉dataframe\n",
        "\n",
        "df_cm = pd.DataFrame(cm)\n",
        "df_cm\n",
        "\n",
        "#annot = True 顯示數字 ，fmt參數不使用科學計數法進行顯示\n",
        "ax = sns.heatmap(df_cm,annot=True,fmt='.20g')\n",
        "ax.set_title('decisiontree_max_features_16000') #標題\n",
        "ax.set_xlabel('predict') #x軸\n",
        "ax.set_ylabel('true')"
      ]
    },
    {
      "cell_type": "code",
      "execution_count": null,
      "id": "2670ff05",
      "metadata": {
        "id": "2670ff05"
      },
      "outputs": [],
      "source": [
        "# df_submission = pd.DataFrame({u'Id': test[u'index'], u'Label': model['y_encoder'].inverse_transform(TEST_predict_result)})"
      ]
    },
    {
      "cell_type": "code",
      "execution_count": null,
      "id": "9d36addc",
      "metadata": {
        "id": "9d36addc"
      },
      "outputs": [],
      "source": [
        "# df_submission.to_csv('decision tree_k-fold10.csv', header=True, index=False)"
      ]
    },
    {
      "cell_type": "markdown",
      "id": "0b82867d",
      "metadata": {
        "id": "0b82867d"
      },
      "source": [
        "## 畫決策樹(未修改)"
      ]
    },
    {
      "cell_type": "code",
      "execution_count": null,
      "id": "18fa00e7",
      "metadata": {
        "id": "18fa00e7",
        "outputId": "b71165d6-4fc7-4dc8-b792-d31339876f6d"
      },
      "outputs": [
        {
          "data": {
            "image/png": "[encoded data removed]",
            "text/plain": [
              "<Figure size 1800x1440 with 1 Axes>"
            ]
          },
          "metadata": {
            "needs_background": "light"
          },
          "output_type": "display_data"
        }
      ],
      "source": [
        "fig = plt.figure(figsize=(25,20))\n",
        "_ = tree.plot_tree(model,\n",
        "                   feature_names = train_o.label,\n",
        "                   class_names = model.classes_)\n",
        "\n",
        "fig.savefig(\"decistion_tree.png\")"
      ]
    },
    {
      "cell_type": "code",
      "execution_count": null,
      "id": "c16623b4",
      "metadata": {
        "id": "c16623b4"
      },
      "outputs": [],
      "source": [
        "dot_data = tree.export_graphviz(model, out_file = None,\n",
        "                                feature_names = dataset.feature_names,\n",
        "                                class_names = dataset.target_names,\n",
        "                                filled = True)\n",
        "graph = graphviz.Source(dot_data, format = \"png\")\n",
        "graph"
      ]
    },
    {
      "cell_type": "code",
      "execution_count": null,
      "id": "0336142f",
      "metadata": {
        "id": "0336142f"
      },
      "outputs": [],
      "source": [
        ""
      ]
    },
    {
      "cell_type": "markdown",
      "id": "54a3918f",
      "metadata": {
        "id": "54a3918f"
      },
      "source": [
        "## 用cross_val_score評估資料分的份數是否適合"
      ]
    },
    {
      "cell_type": "code",
      "execution_count": null,
      "id": "8487abcf",
      "metadata": {
        "scrolled": true,
        "id": "8487abcf"
      },
      "outputs": [],
      "source": [
        "scores = cross_val_score(DecisionTreeClassifier(), train.cleaned_text, train.label, cv = 10, \n",
        "                         scoring = 'f1_weighted')\n",
        "print(scores)\n",
        "print ('10 folds CV with weighted-F1: ', scores.mean())"
      ]
    },
    {
      "cell_type": "code",
      "execution_count": null,
      "id": "cfcb3267",
      "metadata": {
        "id": "cfcb3267"
      },
      "outputs": [],
      "source": [
        "k_range = range(1,31)\n",
        "k_scores = []\n",
        "for k_number in k_range:\n",
        "    knn = KNeighborsClassifier(n_neighbors=k_number)\n",
        "    scores = cross_val_score(knn,X,y,cv=10,scoring='accuracy')\n",
        "    k_scores.append(scores.mean())"
      ]
    },
    {
      "cell_type": "code",
      "execution_count": null,
      "id": "634ad733",
      "metadata": {
        "id": "634ad733"
      },
      "outputs": [],
      "source": [
        "plt.plot(k_range,k_scores)\n",
        "plt.xlabel('Value of K for KNN')\n",
        "plt.ylabel('Cross-Validated Accuracy')\n",
        "plt.show()"
      ]
    },
    {
      "cell_type": "markdown",
      "id": "68545a4f",
      "metadata": {
        "id": "68545a4f"
      },
      "source": [
        "## 用 train_test_split 分訓練與測試的資料"
      ]
    },
    {
      "cell_type": "code",
      "execution_count": null,
      "id": "0404d87a",
      "metadata": {
        "id": "0404d87a"
      },
      "outputs": [],
      "source": [
        "x_train, x_test, y_train, y_test = train_test_split(train['cleaned_text'], train['label'], test_size = 0.2)\n",
        "print(x_train.shape, x_test.shape, y_train.shape, y_test.shape)"
      ]
    },
    {
      "cell_type": "markdown",
      "id": "17260679",
      "metadata": {
        "id": "17260679"
      },
      "source": [
        "## BERT"
      ]
    },
    {
      "cell_type": "code",
      "execution_count": null,
      "id": "32176731",
      "metadata": {
        "id": "32176731"
      },
      "outputs": [],
      "source": [
        ""
      ]
    },
    {
      "cell_type": "code",
      "execution_count": null,
      "id": "893fbfa8",
      "metadata": {
        "scrolled": true,
        "id": "893fbfa8"
      },
      "outputs": [],
      "source": [
        ""
      ]
    },
    {
      "cell_type": "code",
      "execution_count": null,
      "id": "cc7ba98f",
      "metadata": {
        "id": "cc7ba98f"
      },
      "outputs": [],
      "source": [
        ""
      ]
    },
    {
      "cell_type": "code",
      "execution_count": null,
      "id": "40ff68bb",
      "metadata": {
        "scrolled": true,
        "id": "40ff68bb"
      },
      "outputs": [],
      "source": [
        ""
      ]
    }
  ],
  "metadata": {
    "kernelspec": {
      "display_name": "Python 3 (ipykernel)",
      "language": "python",
      "name": "python3"
    },
    "language_info": {
      "codemirror_mode": {
        "name": "ipython",
        "version": 3
      },
      "file_extension": ".py",
      "mimetype": "text/x-python",
      "name": "python",
      "nbconvert_exporter": "python",
      "pygments_lexer": "ipython3",
      "version": "3.8.10"
    },
    "colab": {
      "name": "decision tree  CNB 俐斐 .ipynb",
      "provenance": [],
      "collapsed_sections": [
        "fdf87ea4",
        "56ddb6d0",
        "e63f5406",
        "0b82867d",
        "54a3918f",
        "68545a4f",
        "17260679"
      ]
    },
    "accelerator": "GPU"
  },
  "nbformat": 4,
  "nbformat_minor": 5
}